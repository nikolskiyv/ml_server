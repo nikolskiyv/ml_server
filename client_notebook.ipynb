{
 "cells": [
  {
   "cell_type": "markdown",
   "id": "4141bc43",
   "metadata": {},
   "source": [
    "## Домашнее задание №4 (курс \"Практикум по программированию на языке Python\")"
   ]
  },
  {
   "cell_type": "markdown",
   "id": "f5d5a18b",
   "metadata": {},
   "source": [
    "### Выполнил: <font color='red'>Никольский Владимир Андреевич, МГУ, ВМК</font>\n",
    "\n",
    "### Тема: Web-сервер для обучения и использования ML-моделей\n",
    "\n",
    "#### Преподаватели: Мурат Апишев (mel-lain@yandex.ru) и Роман Ищенко (roman.ischenko@gmail.com)\n",
    "\n",
    "**Выдана**: 03.05.2023\n",
    "\n",
    "**Дедлайн**: 17.05.2023\n",
    "\n",
    "**Среда выполнения**: Jupyter Notebook (Python 3.7+)\n",
    "\n",
    "#### Правила:\n",
    "\n",
    "Результаты выполнения задания:\n",
    "\n",
    "- архив со скриптами и файлами Dockerfile, который 1-2 команды позволяет развернуть сервер, решающий поставленные в задании задачи\n",
    "- Jupyter Notebook, где __весь код__ из скриптов дублируется (1 ячейка - 1 скрипт) с комментарием, содержащим информацию о том, из какого файла взят код и что верхнеуровнево этот код делает\n",
    "\n",
    "__Максимальное число баллов за задание - 25__.\n",
    "\n",
    "Готовое задание отправляется на почту преподавателя.\n",
    "\n",
    "Задание выполняется самостоятельно. Если какие-то студенты будут уличены в списывании, все они автоматически получат за эту работу 0 баллов. Если вы нашли в Интернете какой-то специфичный код, который собираетесь заимствовать, обязательно укажите это в задании - наверняка вы не единственный, кто найдёт и использует эту информацию.\n",
    "\n",
    "Удалять фрагменты формулировок заданий запрещается."
   ]
  },
  {
   "cell_type": "markdown",
   "id": "55999841",
   "metadata": {},
   "source": [
    "### Постановка задачи:\n",
    "\n",
    "**Серверная часть (15 баллов):**\n",
    "\n",
    "- В данной работе нужно написать многозадачный веб-сервер для обучения и инференса ML моделей. На старте сервер получает на вход (через .env) конфиг, в котором должны быть указаны 3 параметра: путь к директории для сохранения моделей внутри контейнера сервера, число ядер, доступных для обучения и максимальное число моделей, которые могут быть одновременно загружены для инференса.\n",
    "\n",
    "\n",
    "- Сервер должен реализовывать следующие методы:\n",
    "    - `fit(X, y, config)` - обучить модель и сохранить на диск по указанным именем\n",
    "    - `predict(y, config)` - предсказать с помощью обученной и загруженной модели по её имени\n",
    "    - `load(config)` - загрузить обученную модель по её имени в режим инференса\n",
    "    - `unload(config)` - выгрузить загруженную модель по её имени\n",
    "    - `remove(config)` - удалить обученную модель с диска по её имени\n",
    "    - `remove_all()` - удалить все обученные модели с диска\n",
    "\n",
    "\n",
    "- Содержимое конфигов и форматы данных предлагается продумать и реализовать самостоятельно\n",
    "- Сервер должен иметь счётчик активных процессов. Максимальное число активных процессов соответствует числу ядер, переданному в конфиге при старте сервиса. Каждое обучение модели запускается в отдельном процессе и до своего завершения потребляет этот процесс. Один процесс всегда остаётся для сервера, в нём же загружаются и работают на инференс обученные модели\n",
    "- Сервер должен корректно обрабатывать все граничные случаи (запуск обучения без свободных ядер, запуск инфренса свыше лимита, запросы с несуществующими именами моделей, запросы с дублирующимися именами моделей)\n",
    "- В реализации должны поддерживаться не менее трёх дискриминативных моделей (т.е. принимающих на вход объекты и метки при обучении и предсказывающих метки для новых объектов)\n",
    "- Сервер должен быть реализован на FastAPI\n",
    "- Проект разворачивается с помощью выбранной библиотеки управления виртуальными окружениями и технологии контейнеризации Docker\n",
    "\n",
    "**Клиентская часть (10 баллов):**\n",
    "\n",
    "- Клиентская часть должна демонстрировать работу с реализованным сервером с помощью библиотек requests и aiohttp. Она может быть реализована непосредственно в Jupyter Notebook, с описанием ожидаемого действия, или в отдельном(-ых) скрипте(-ах), с дублированием в Jupyter Notebook (тогда работоспособность в ноутбуке не требуется). Далее описываются отдельные функции:\n",
    "- Код вызова последовательного вызова обучения как минимум двух (N) различных моделей с таким набором данных и параметрами, чтобы обучение одной модели длилось не менее 60 секунд.\n",
    "- Код вызова асинхронного вызова обучения как минимум двух различных моделей с демонстрацией, что работа выполняется в два (в N) раза быстрее\n",
    "- Асинхронный вызов нескольких предсказаний\n",
    "- Код демонстрации остальных функций сервера (загрузка, выгрузка, удаление)\n",
    "- Должны обрабатываться ошибки и исключения, возвращаемые сервером\n"
   ]
  },
  {
   "cell_type": "code",
   "execution_count": 40,
   "id": "09b1df60",
   "metadata": {},
   "outputs": [],
   "source": [
    "import pandas as pd\n",
    "import numpy as np\n",
    "\n",
    "import datetime\n",
    "\n",
    "import asyncio\n",
    "import aiohttp\n",
    "import requests as r\n",
    "\n",
    "import time\n",
    "from functools import wraps\n",
    "\n",
    "from sklearn.ensemble import (\n",
    "    GradientBoostingClassifier,\n",
    "    RandomForestClassifier,\n",
    ")\n",
    "from sklearn.linear_model import LogisticRegression\n",
    "from sklearn.neighbors import KNeighborsClassifier\n",
    "from sklearn.svm import SVC\n",
    "\n",
    "import warnings\n",
    "\n",
    "warnings.filterwarnings('ignore')"
   ]
  },
  {
   "cell_type": "markdown",
   "id": "3e8b0827",
   "metadata": {},
   "source": [
    "# Эксперименты"
   ]
  },
  {
   "cell_type": "markdown",
   "id": "437c8b68",
   "metadata": {},
   "source": [
    "Перед написанием серверной части задания проведем эксперименты на синтаксических данных. Заметим, что обучение модели МО является CPU bound задачей, поэтому будем использовать библиотеку __multiprocessing__, чтобы обойти GIL."
   ]
  },
  {
   "cell_type": "code",
   "execution_count": 41,
   "id": "b4781995",
   "metadata": {},
   "outputs": [],
   "source": [
    "# Декоратор для замера времени выполнения функции\n",
    "\n",
    "def time_of_function(function):\n",
    "    @wraps(function)\n",
    "    def wrapped(*args, **kwargs):\n",
    "        start_time = datetime.datetime.now()\n",
    "        res = function(*args, **kwargs)\n",
    "        print(datetime.datetime.now() - start_time)\n",
    "        return res\n",
    "    return wrapped"
   ]
  },
  {
   "cell_type": "markdown",
   "id": "baa397e9",
   "metadata": {},
   "source": [
    "Будем экспериментировать на методе __GradientBoostingClassifier__. Выбор обусловлен тем, что на сравнительно небольшом датасете (5000 записей для 10 признаков) время обучения одной модели составлет около минуты."
   ]
  },
  {
   "cell_type": "markdown",
   "id": "45fa9f22",
   "metadata": {},
   "source": [
    "# Клиентская часть"
   ]
  },
  {
   "cell_type": "code",
   "execution_count": 42,
   "id": "a2d539db",
   "metadata": {},
   "outputs": [],
   "source": [
    "X = np.random.randint(0, 100, size=(5000, 10))\n",
    "y = np.random.randint(0, 100, size=(5000,))\n",
    "\n",
    "X = X.tolist()\n",
    "y = y.ravel().tolist()"
   ]
  },
  {
   "cell_type": "markdown",
   "id": "5a4f2aca",
   "metadata": {},
   "source": [
    "Запустим приложение командой __make run_all_docker__ и приступим к демонстрации работы серверной части"
   ]
  },
  {
   "cell_type": "code",
   "execution_count": 43,
   "id": "e09b27c6",
   "metadata": {},
   "outputs": [],
   "source": [
    "URL = 'http://0.0.0.0:8000'  # URL приложения на локальной машине"
   ]
  },
  {
   "cell_type": "code",
   "execution_count": 52,
   "id": "970b1527",
   "metadata": {},
   "outputs": [],
   "source": [
    "# Проверим, что сервер запущен и обрабатывает запросы\n",
    "\n",
    "health_check = r.get(url=f'{URL}/health')\n",
    "assert health_check.ok"
   ]
  },
  {
   "cell_type": "code",
   "execution_count": 53,
   "id": "ca1b925b",
   "metadata": {},
   "outputs": [],
   "source": [
    "# Соберем тело запроса для обучения. \n",
    "\n",
    "req_1_body = {\n",
    "    \"X\": X,\n",
    "    \"y\": y,\n",
    "    \"sync\": 'No',\n",
    "    \"config\":{\n",
    "        \"file_name\": \"boosting_classifier_1\",\n",
    "        \"model\": \"GradientBoostingClassifier\",\n",
    "        \"params\":{\n",
    "            \"max_depth\": 2\n",
    "        }\n",
    "    }\n",
    "}\n",
    "\n",
    "req_2_body = {\n",
    "    \"X\": X,\n",
    "    \"y\": y,\n",
    "    \"sync\": 'No',\n",
    "    \"config\":{\n",
    "        \"file_name\": \"boosting_classifier_2\",\n",
    "        \"model\": \"GradientBoostingClassifier\",\n",
    "        \"params\":{\n",
    "            \"max_depth\": 2\n",
    "        }\n",
    "    }\n",
    "}"
   ]
  },
  {
   "cell_type": "code",
   "execution_count": 55,
   "id": "61d47230",
   "metadata": {},
   "outputs": [
    {
     "name": "stdout",
     "output_type": "stream",
     "text": [
      "Запросы обработаны успешно\n"
     ]
    }
   ],
   "source": [
    "import nest_asyncio\n",
    "nest_asyncio.apply()\n",
    "\n",
    "async def async_requests():\n",
    "    async with aiohttp.ClientSession() as session:\n",
    "        req_1 = await session.post(url=f'{URL}/fit', json=req_1_body)\n",
    "        req_2 = await session.post(url=f'{URL}/fit', json=req_2_body)\n",
    "        \n",
    "        assert req_1.ok\n",
    "        assert req_2.ok\n",
    "        \n",
    "        print(f'Запросы обработаны успешно')\n",
    "        \n",
    "loop = asyncio.get_event_loop()\n",
    "loop.run_until_complete(async_requests())"
   ]
  },
  {
   "cell_type": "code",
   "execution_count": 49,
   "id": "c9bde022",
   "metadata": {},
   "outputs": [],
   "source": [
    "# Соберем тело запроса для обучения. \n",
    "\n",
    "req_1_body = {\n",
    "    \"X\": X,\n",
    "    \"y\": y,\n",
    "    \"sync\": 'Yes',\n",
    "    \"config\":{\n",
    "        \"file_name\": \"boosting_classifier_1\",\n",
    "        \"model\": \"GradientBoostingClassifier\",\n",
    "        \"params\":{\n",
    "            \"max_depth\": 2\n",
    "        }\n",
    "    }\n",
    "}\n",
    "\n",
    "req_2_body = {\n",
    "    \"X\": X,\n",
    "    \"y\": y,\n",
    "    \"sync\": 'Yes',\n",
    "    \"config\":{\n",
    "        \"file_name\": \"boosting_classifier_2\",\n",
    "        \"model\": \"GradientBoostingClassifier\",\n",
    "        \"params\":{\n",
    "            \"max_depth\": 2\n",
    "        }\n",
    "    }\n",
    "}"
   ]
  },
  {
   "cell_type": "code",
   "execution_count": 51,
   "id": "b78952ef",
   "metadata": {},
   "outputs": [
    {
     "name": "stdout",
     "output_type": "stream",
     "text": [
      "Запросы обработаны успешно\n"
     ]
    }
   ],
   "source": [
    "import nest_asyncio\n",
    "nest_asyncio.apply()\n",
    "\n",
    "async def sync_requests():\n",
    "    async with aiohttp.ClientSession() as session:\n",
    "        req_1 = await session.post(url=f'{URL}/fit', json=req_1_body)\n",
    "        req_2 = await session.post(url=f'{URL}/fit', json=req_2_body)\n",
    "        \n",
    "        assert req_1.ok\n",
    "        assert req_2.ok\n",
    "        \n",
    "        print(f'Запросы обработаны успешно')\n",
    "        \n",
    "loop = asyncio.get_event_loop()\n",
    "loop.run_until_complete(sync_requests())"
   ]
  },
  {
   "cell_type": "code",
   "execution_count": null,
   "id": "0f58e561",
   "metadata": {},
   "outputs": [],
   "source": []
  }
 ],
 "metadata": {
  "kernelspec": {
   "display_name": "Python 3 (ipykernel)",
   "language": "python",
   "name": "python3"
  },
  "language_info": {
   "codemirror_mode": {
    "name": "ipython",
    "version": 3
   },
   "file_extension": ".py",
   "mimetype": "text/x-python",
   "name": "python",
   "nbconvert_exporter": "python",
   "pygments_lexer": "ipython3",
   "version": "3.9.13"
  }
 },
 "nbformat": 4,
 "nbformat_minor": 5
}
